{
 "cells": [
  {
   "cell_type": "code",
   "execution_count": 4,
   "metadata": {},
   "outputs": [],
   "source": [
    "from pprint import pprint\n",
    "import numpy as np\n",
    "from scipy.linalg import block_diag\n",
    "import pandas as pd\n",
    "import matplotlib.pyplot as plt\n",
    "import time"
   ]
  },
  {
   "cell_type": "code",
   "execution_count": 5,
   "metadata": {},
   "outputs": [],
   "source": [
    "def create_mat(dim, B_diag=4, B_side=-1):\n",
    "    b=np.zeros((32,32))\n",
    "    i,j = np.indices(b.shape)\n",
    "    b[i==j] = B_diag\n",
    "    b[i==j-1] = B_side\n",
    "    b[i==j+1] = B_side\n",
    "    B=np.kron(np.eye(dim),b)\n",
    "    i,j = np.indices(B.shape)\n",
    "    B[i==j+32] = B_side\n",
    "    B[i==j-32] = B_side\n",
    "    \n",
    "\n",
    "    x=np.array([np.zeros((32*dim))]).reshape(-1,1)\n",
    "    b=np.array([np.ones((32*dim))]).reshape(-1,1)\n",
    "    \n",
    "    return [B,x,b]"
   ]
  },
  {
   "cell_type": "code",
   "execution_count": 6,
   "metadata": {},
   "outputs": [],
   "source": [
    "def Jacobi(create_mat, tol=10**(-7)):                                                                                                                                               \n",
    "        A,x,b=create_mat\n",
    "        \n",
    "        D = np.diagflat(np.diag(A))\n",
    "        R = A - D\n",
    "        \n",
    "        err_prev=-np.inf\n",
    "        epochs=0\n",
    "        while (np.linalg.norm(x, 2)-err_prev)>10**(-8):\n",
    "            err_prev=np.linalg.norm(x, 2)\n",
    "            x = np.dot(np.linalg.inv(D),(b - np.dot(R,x)))\n",
    "            epochs+=1\n",
    "        return x, epochs"
   ]
  },
  {
   "cell_type": "code",
   "execution_count": 8,
   "metadata": {},
   "outputs": [],
   "source": [
    "def Block_Jacobi(blocks):\n",
    "    x=[]\n",
    "    epochs=0\n",
    "    t=time.time()\n",
    "    for i in range(int(32/blocks)):\n",
    "        sol,ep=Jacobi(create_mat(blocks))\n",
    "        x.extend(sol)\n",
    "        epochs+=ep\n",
    "    print(\"Block Jacobi method. Solution matrix size: {}, Total of epochs to converge: {}, Time elapsed:, {}s\".format(len(x),epochs,time.time()-t))"
   ]
  },
  {
   "cell_type": "code",
   "execution_count": 9,
   "metadata": {},
   "outputs": [
    {
     "name": "stdout",
     "output_type": "stream",
     "text": [
      "Block Jacobi method. Solution matrix size: 1024, Total of epochs to converge: 896, Time elapsed:, 0.08381438255310059s\n"
     ]
    }
   ],
   "source": [
    "Block_Jacobi(1)"
   ]
  },
  {
   "cell_type": "code",
   "execution_count": 10,
   "metadata": {},
   "outputs": [
    {
     "name": "stdout",
     "output_type": "stream",
     "text": [
      "Block Jacobi method. Solution matrix size: 1024, Total of epochs to converge: 1072, Time elapsed:, 0.13660597801208496s\n"
     ]
    }
   ],
   "source": [
    "Block_Jacobi(2)"
   ]
  },
  {
   "cell_type": "code",
   "execution_count": 11,
   "metadata": {},
   "outputs": [
    {
     "name": "stdout",
     "output_type": "stream",
     "text": [
      "Block Jacobi method. Solution matrix size: 1024, Total of epochs to converge: 1512, Time elapsed:, 0.41886043548583984s\n"
     ]
    }
   ],
   "source": [
    "Block_Jacobi(4)"
   ]
  },
  {
   "cell_type": "code",
   "execution_count": 12,
   "metadata": {},
   "outputs": [
    {
     "name": "stdout",
     "output_type": "stream",
     "text": [
      "Block Jacobi method. Solution matrix size: 1024, Total of epochs to converge: 2388, Time elapsed:, 4.100033283233643s\n"
     ]
    }
   ],
   "source": [
    "Block_Jacobi(8)"
   ]
  },
  {
   "cell_type": "code",
   "execution_count": 13,
   "metadata": {},
   "outputs": [],
   "source": [
    "def Gauss_Seidel(create_mat, tol=10**(-7)):\n",
    "    A,x,b=create_mat\n",
    "\n",
    "    U = np.triu(A, 1)\n",
    "    L = np.tril(A)\n",
    "\n",
    "    err_prev=-np.inf\n",
    "    epochs=0\n",
    "    while (np.linalg.norm(x, 2)-err_prev)>10**(-8):\n",
    "        err_prev=np.linalg.norm(x, 2)\n",
    "        x = np.dot(np.linalg.inv(L), (b - np.dot(U, x)))\n",
    "        epochs+=1\n",
    "    return x, epochs"
   ]
  },
  {
   "cell_type": "code",
   "execution_count": 14,
   "metadata": {},
   "outputs": [],
   "source": [
    "def Block_Gauss_Seidel(blocks):\n",
    "    x=[]\n",
    "    epochs=0\n",
    "    t=time.time()\n",
    "    for i in range(int(32/blocks)):\n",
    "        sol,ep=Gauss_Seidel(create_mat(blocks))\n",
    "        x.extend(sol)\n",
    "        epochs+=ep\n",
    "    print(\"Block Gauss Seidel method. Solution matrix size: {}, Total of epochs to converge: {}, Time elapsed:, {}s\".format(len(x),epochs,time.time()-t))"
   ]
  },
  {
   "cell_type": "code",
   "execution_count": 15,
   "metadata": {},
   "outputs": [
    {
     "name": "stdout",
     "output_type": "stream",
     "text": [
      "Block Gauss Seidel method. Solution matrix size: 1024, Total of epochs to converge: 576, Time elapsed:, 0.049857139587402344s\n"
     ]
    }
   ],
   "source": [
    "Block_Gauss_Seidel(1)"
   ]
  },
  {
   "cell_type": "code",
   "execution_count": 16,
   "metadata": {},
   "outputs": [
    {
     "name": "stdout",
     "output_type": "stream",
     "text": [
      "Block Gauss Seidel method. Solution matrix size: 1024, Total of epochs to converge: 608, Time elapsed:, 0.10172915458679199s\n"
     ]
    }
   ],
   "source": [
    "Block_Gauss_Seidel(2)"
   ]
  },
  {
   "cell_type": "code",
   "execution_count": 17,
   "metadata": {},
   "outputs": [
    {
     "name": "stdout",
     "output_type": "stream",
     "text": [
      "Block Gauss Seidel method. Solution matrix size: 1024, Total of epochs to converge: 800, Time elapsed:, 0.21639394760131836s\n"
     ]
    }
   ],
   "source": [
    "Block_Gauss_Seidel(4)"
   ]
  },
  {
   "cell_type": "code",
   "execution_count": 18,
   "metadata": {},
   "outputs": [
    {
     "name": "stdout",
     "output_type": "stream",
     "text": [
      "Block Gauss Seidel method. Solution matrix size: 1024, Total of epochs to converge: 1244, Time elapsed:, 2.127284288406372s\n"
     ]
    }
   ],
   "source": [
    "Block_Gauss_Seidel(8)"
   ]
  },
  {
   "cell_type": "code",
   "execution_count": 99,
   "metadata": {},
   "outputs": [],
   "source": [
    "def create_sor_mat(dim, B_diag=4, B_side=-1):\n",
    "    B=np.zeros((1024,1024))\n",
    "    i,j = np.indices(B.shape)\n",
    "    B[i==j] = B_diag\n",
    "    B[i==j-1] = B_side\n",
    "    B[i==j+1] = B_side\n",
    "    B[i==j+32] = B_side\n",
    "    B[i==j-32] = B_side\n",
    "    \n",
    "\n",
    "    x=np.array([np.zeros((32*dim))]).reshape(-1,1)\n",
    "    b=np.array([np.ones((32*dim))]).reshape(-1,1)\n",
    "    \n",
    "    return [B,x,b]"
   ]
  },
  {
   "cell_type": "code",
   "execution_count": 15,
   "metadata": {},
   "outputs": [],
   "source": [
    "def SOR(creat_sor_mat, tol=10**(-7)):\n",
    "    A,x_s,b=create_mat  \n",
    "    res=np.zeros((A.shape[0],20))\n",
    "\n",
    "    omega_epochs=[]\n",
    "    omegas=np.arange(1,2,0.05)\n",
    "    i=0\n",
    "    for omega in omegas:\n",
    "        x=x_s\n",
    "\n",
    "        D=np.diag(np.diag(A))\n",
    "        M=np.dot((1/omega),D)+np.tril(A,-1)\n",
    "        N=M-A\n",
    "\n",
    "        error=np.linalg.norm(x, 2)\n",
    "        epochs=0\n",
    "        flag=True\n",
    "        while flag:\n",
    "            x=np.dot(np.dot((np.linalg.inv(M)),N),x)+np.dot((np.linalg.inv(M)),b)\n",
    "            error_prev=error\n",
    "            error=np.linalg.norm(x, 2)\n",
    "            epochs+=1\n",
    "            if error-error_prev<tol:\n",
    "                flag=False\n",
    "                res[:,i]=x.squeeze()\n",
    "                omega_epochs.append([np.round(omega,2),epochs])\n",
    "                print(\"Omega: \", np.round(omega,2),\" Epochs:\",epochs)\n",
    "                i+=1\n",
    "\n",
    "    return [pd.DataFrame(res), pd.DataFrame(omega_epochs)]\n",
    "\n",
    "def draw_omega(omega_opt):\n",
    "    fig, ax = plt.subplots(figsize=(16, 8))\n",
    "    ax.plot(omega_opt[0], omega_opt[1], label=('Omega vs No of epochs for convergeance'))\n",
    "    ax.set_ylabel('Number of epochs\\n')\n",
    "    ax.set_xlabel('Omega')\n",
    "    ax.set_title('Omega vs No of epochs for convergeance')\n",
    "    ax.spines['top'].set_visible(False)\n",
    "    ax.spines['right'].set_visible(False)\n",
    "    ax.grid(color='grey', linestyle='-', linewidth=0.25, alpha=0.5)"
   ]
  },
  {
   "cell_type": "code",
   "execution_count": 17,
   "metadata": {},
   "outputs": [
    {
     "name": "stdout",
     "output_type": "stream",
     "text": [
      "Omega:  1.0  Epochs: 2062\n",
      "Omega:  1.05  Epochs: 1875\n",
      "Omega:  1.1  Epochs: 1704\n",
      "Omega:  1.15  Epochs: 1547\n",
      "Omega:  1.2  Epochs: 1402\n",
      "Omega:  1.25  Epochs: 1267\n",
      "Omega:  1.3  Epochs: 1142\n",
      "Omega:  1.35  Epochs: 1026\n",
      "Omega:  1.4  Epochs: 916\n",
      "Omega:  1.45  Epochs: 814\n",
      "Omega:  1.5  Epochs: 717\n",
      "Omega:  1.55  Epochs: 625\n",
      "Omega:  1.6  Epochs: 538\n",
      "Omega:  1.65  Epochs: 454\n",
      "Omega:  1.7  Epochs: 372\n",
      "Omega:  1.75  Epochs: 291\n",
      "Omega:  1.8  Epochs: 204\n",
      "Omega:  1.85  Epochs: 40\n",
      "Omega:  1.9  Epochs: 27\n",
      "Omega:  1.95  Epochs: 19\n"
     ]
    }
   ],
   "source": [
    "res,omega=SOR(create_mat(32), tol=10**(-7))"
   ]
  },
  {
   "cell_type": "code",
   "execution_count": 18,
   "metadata": {},
   "outputs": [
    {
     "data": {
      "text/html": [
       "<div>\n",
       "<style scoped>\n",
       "    .dataframe tbody tr th:only-of-type {\n",
       "        vertical-align: middle;\n",
       "    }\n",
       "\n",
       "    .dataframe tbody tr th {\n",
       "        vertical-align: top;\n",
       "    }\n",
       "\n",
       "    .dataframe thead th {\n",
       "        text-align: right;\n",
       "    }\n",
       "</style>\n",
       "<table border=\"1\" class=\"dataframe\">\n",
       "  <thead>\n",
       "    <tr style=\"text-align: right;\">\n",
       "      <th></th>\n",
       "      <th>0</th>\n",
       "      <th>1</th>\n",
       "    </tr>\n",
       "  </thead>\n",
       "  <tbody>\n",
       "    <tr>\n",
       "      <th>0</th>\n",
       "      <td>1.00</td>\n",
       "      <td>2062</td>\n",
       "    </tr>\n",
       "    <tr>\n",
       "      <th>1</th>\n",
       "      <td>1.05</td>\n",
       "      <td>1875</td>\n",
       "    </tr>\n",
       "    <tr>\n",
       "      <th>2</th>\n",
       "      <td>1.10</td>\n",
       "      <td>1704</td>\n",
       "    </tr>\n",
       "    <tr>\n",
       "      <th>3</th>\n",
       "      <td>1.15</td>\n",
       "      <td>1547</td>\n",
       "    </tr>\n",
       "    <tr>\n",
       "      <th>4</th>\n",
       "      <td>1.20</td>\n",
       "      <td>1402</td>\n",
       "    </tr>\n",
       "    <tr>\n",
       "      <th>5</th>\n",
       "      <td>1.25</td>\n",
       "      <td>1267</td>\n",
       "    </tr>\n",
       "    <tr>\n",
       "      <th>6</th>\n",
       "      <td>1.30</td>\n",
       "      <td>1142</td>\n",
       "    </tr>\n",
       "    <tr>\n",
       "      <th>7</th>\n",
       "      <td>1.35</td>\n",
       "      <td>1026</td>\n",
       "    </tr>\n",
       "    <tr>\n",
       "      <th>8</th>\n",
       "      <td>1.40</td>\n",
       "      <td>916</td>\n",
       "    </tr>\n",
       "    <tr>\n",
       "      <th>9</th>\n",
       "      <td>1.45</td>\n",
       "      <td>814</td>\n",
       "    </tr>\n",
       "    <tr>\n",
       "      <th>10</th>\n",
       "      <td>1.50</td>\n",
       "      <td>717</td>\n",
       "    </tr>\n",
       "    <tr>\n",
       "      <th>11</th>\n",
       "      <td>1.55</td>\n",
       "      <td>625</td>\n",
       "    </tr>\n",
       "    <tr>\n",
       "      <th>12</th>\n",
       "      <td>1.60</td>\n",
       "      <td>538</td>\n",
       "    </tr>\n",
       "    <tr>\n",
       "      <th>13</th>\n",
       "      <td>1.65</td>\n",
       "      <td>454</td>\n",
       "    </tr>\n",
       "    <tr>\n",
       "      <th>14</th>\n",
       "      <td>1.70</td>\n",
       "      <td>372</td>\n",
       "    </tr>\n",
       "    <tr>\n",
       "      <th>15</th>\n",
       "      <td>1.75</td>\n",
       "      <td>291</td>\n",
       "    </tr>\n",
       "    <tr>\n",
       "      <th>16</th>\n",
       "      <td>1.80</td>\n",
       "      <td>204</td>\n",
       "    </tr>\n",
       "    <tr>\n",
       "      <th>17</th>\n",
       "      <td>1.85</td>\n",
       "      <td>40</td>\n",
       "    </tr>\n",
       "    <tr>\n",
       "      <th>18</th>\n",
       "      <td>1.90</td>\n",
       "      <td>27</td>\n",
       "    </tr>\n",
       "    <tr>\n",
       "      <th>19</th>\n",
       "      <td>1.95</td>\n",
       "      <td>19</td>\n",
       "    </tr>\n",
       "  </tbody>\n",
       "</table>\n",
       "</div>"
      ],
      "text/plain": [
       "       0     1\n",
       "0   1.00  2062\n",
       "1   1.05  1875\n",
       "2   1.10  1704\n",
       "3   1.15  1547\n",
       "4   1.20  1402\n",
       "5   1.25  1267\n",
       "6   1.30  1142\n",
       "7   1.35  1026\n",
       "8   1.40   916\n",
       "9   1.45   814\n",
       "10  1.50   717\n",
       "11  1.55   625\n",
       "12  1.60   538\n",
       "13  1.65   454\n",
       "14  1.70   372\n",
       "15  1.75   291\n",
       "16  1.80   204\n",
       "17  1.85    40\n",
       "18  1.90    27\n",
       "19  1.95    19"
      ]
     },
     "execution_count": 18,
     "metadata": {},
     "output_type": "execute_result"
    }
   ],
   "source": [
    "omega"
   ]
  },
  {
   "cell_type": "code",
   "execution_count": 19,
   "metadata": {},
   "outputs": [
    {
     "data": {
      "image/png": "[encoded data removed]",
      "text/plain": [
       "<Figure size 1152x576 with 1 Axes>"
      ]
     },
     "metadata": {},
     "output_type": "display_data"
    }
   ],
   "source": [
    "draw_omega(omega)"
   ]
  },
  {
   "cell_type": "markdown",
   "metadata": {},
   "source": [
    "# Create the matrix T"
   ]
  },
  {
   "cell_type": "code",
   "execution_count": 100,
   "metadata": {},
   "outputs": [],
   "source": [
    "T=create_sor_mat(32)[0]"
   ]
  },
  {
   "cell_type": "markdown",
   "metadata": {},
   "source": [
    "# Calculate undamped Jacobi Iteration Matrix"
   ]
  },
  {
   "cell_type": "code",
   "execution_count": 101,
   "metadata": {},
   "outputs": [],
   "source": [
    "M=np.eye(B.shape[0])-(np.linalg.inv(np.diag(np.diag(T)))@T)"
   ]
  },
  {
   "cell_type": "markdown",
   "metadata": {},
   "source": [
    "# Calculate the eigenvalues of the matrix"
   ]
  },
  {
   "cell_type": "code",
   "execution_count": 102,
   "metadata": {},
   "outputs": [],
   "source": [
    "m=np.linalg.eig(M)"
   ]
  },
  {
   "cell_type": "markdown",
   "metadata": {},
   "source": [
    "# Get the maximum eigenvalues"
   ]
  },
  {
   "cell_type": "code",
   "execution_count": 103,
   "metadata": {},
   "outputs": [],
   "source": [
    "mmax=np.max(np.abs(S[0]))"
   ]
  },
  {
   "cell_type": "markdown",
   "metadata": {},
   "source": [
    "# Calculate wopt"
   ]
  },
  {
   "cell_type": "code",
   "execution_count": 104,
   "metadata": {},
   "outputs": [],
   "source": [
    "wopt=1+np.power(mmax/(1+np.sqrt(1-(mmax**2))),2)"
   ]
  },
  {
   "cell_type": "code",
   "execution_count": 105,
   "metadata": {},
   "outputs": [
    {
     "data": {
      "text/plain": [
       "1.8263905415885064"
      ]
     },
     "execution_count": 105,
     "metadata": {},
     "output_type": "execute_result"
    }
   ],
   "source": [
    "wopt"
   ]
  },
  {
   "cell_type": "code",
   "execution_count": null,
   "metadata": {},
   "outputs": [],
   "source": []
  }
 ],
 "metadata": {
  "kernelspec": {
   "display_name": "Python 3",
   "language": "python",
   "name": "python3"
  },
  "language_info": {
   "codemirror_mode": {
    "name": "ipython",
    "version": 3
   },
   "file_extension": ".py",
   "mimetype": "text/x-python",
   "name": "python",
   "nbconvert_exporter": "python",
   "pygments_lexer": "ipython3",
   "version": "3.6.5"
  }
 },
 "nbformat": 4,
 "nbformat_minor": 2
}
