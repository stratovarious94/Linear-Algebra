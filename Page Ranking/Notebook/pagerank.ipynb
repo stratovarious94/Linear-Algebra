{
 "cells": [
  {
   "cell_type": "code",
   "execution_count": 1,
   "metadata": {},
   "outputs": [],
   "source": [
    "import numpy as np\n",
    "import pandas as pd\n",
    "import time\n",
    "\n",
    "from scipy.sparse import coo_matrix, tril, triu, eye, diags, csc_matrix\n",
    "from scipy.sparse.linalg import spsolve_triangular, inv"
   ]
  },
  {
   "cell_type": "code",
   "execution_count": 2,
   "metadata": {},
   "outputs": [],
   "source": [
    "df = pd.read_table(\"Dataset/stanweb.dat\", header=None)"
   ]
  },
  {
   "cell_type": "code",
   "execution_count": 3,
   "metadata": {},
   "outputs": [],
   "source": [
    "dim=np.max(df[0])\n",
    "P=coo_matrix((df[2], (df[0]-1, df[1]-1)), shape=(dim, dim))\n",
    "b=np.ones((dim,1))/dim\n",
    "y=np.ones((dim,1))/dim\n",
    "filt=P.getnnz(1)>0\n",
    "tol = 10^-8;"
   ]
  },
  {
   "cell_type": "code",
   "execution_count": 4,
   "metadata": {},
   "outputs": [
    {
     "data": {
      "text/plain": [
       "<281903x281903 sparse matrix of type '<class 'numpy.float64'>'\n",
       "\twith 2382912 stored elements in COOrdinate format>"
      ]
     },
     "execution_count": 4,
     "metadata": {},
     "output_type": "execute_result"
    }
   ],
   "source": [
    "P"
   ]
  },
  {
   "cell_type": "markdown",
   "metadata": {},
   "source": [
    "# Power Method a = 0.85"
   ]
  },
  {
   "cell_type": "code",
   "execution_count": 6,
   "metadata": {},
   "outputs": [],
   "source": [
    "a = 0.85"
   ]
  },
  {
   "cell_type": "code",
   "execution_count": 7,
   "metadata": {},
   "outputs": [
    {
     "name": "stdout",
     "output_type": "stream",
     "text": [
      "Power method with a=0.85 took:  1.0920600891113281 seconds to converge\n"
     ]
    }
   ],
   "source": [
    "stime=time.time()\n",
    "x = a*y.T*P + (a*y.T*filt+(1-a))*b.T\n",
    "while(np.linalg.norm(x-y.T)>10e-8):\n",
    "    y = x.T                             \n",
    "    x = a*y.T*P + (a*y.T*filt+(1-a))*b.T\n",
    "print(\"Power method with a=0.85 took: \",time.time()-stime,\"seconds to converge\")"
   ]
  },
  {
   "cell_type": "code",
   "execution_count": 8,
   "metadata": {},
   "outputs": [
    {
     "data": {
      "text/plain": [
       "array([ 89073, 226411, 241454, 262860, 134832, 234704, 136821,  68889,\n",
       "       105607,  69358,  67756, 225872, 186750,  95163, 251796, 272442,\n",
       "       119479, 231363,  55788, 167295, 179645,  38342, 117152, 198090,\n",
       "        60210, 235496, 132695, 181701, 247241, 259455,  62478, 120708,\n",
       "       161890,  77999,  17781, 176790, 137632, 221087, 183004,  96745,\n",
       "       112742, 145892, 151428,  81435,  60440, 208542,     91, 214128,\n",
       "       258348, 222873])"
      ]
     },
     "execution_count": 8,
     "metadata": {},
     "output_type": "execute_result"
    }
   ],
   "source": [
    "top=np.arange(x.shape[1])\n",
    "(top[np.argsort(-x)]+1).flatten()[:50]"
   ]
  },
  {
   "cell_type": "markdown",
   "metadata": {},
   "source": [
    "# Power method a=0.99"
   ]
  },
  {
   "cell_type": "code",
   "execution_count": 5,
   "metadata": {},
   "outputs": [],
   "source": [
    "a = 0.99;"
   ]
  },
  {
   "cell_type": "code",
   "execution_count": 6,
   "metadata": {},
   "outputs": [
    {
     "name": "stdout",
     "output_type": "stream",
     "text": [
      "Power method with a=0.85 took:  18.383810997009277 seconds to converge\n"
     ]
    }
   ],
   "source": [
    "stime=time.time()\n",
    "x = a*y.T*P + (a*y.T*filt+(1-a))*b.T\n",
    "while(np.linalg.norm(x-y.T)>10e-8):\n",
    "    y = x.T                             \n",
    "    x = a*y.T*P + (a*y.T*filt+(1-a))*b.T\n",
    "print(\"Power method with a=0.85 took: \",time.time()-stime,\"seconds to converge\")"
   ]
  },
  {
   "cell_type": "code",
   "execution_count": 7,
   "metadata": {},
   "outputs": [
    {
     "data": {
      "text/plain": [
       "array([ 89073, 281772, 174665, 226411, 179645, 271409, 262860, 136821,\n",
       "        68889,  77988, 116530,  95163, 272442, 251796,  65580, 119479,\n",
       "       241454, 245765,  58048,  14785,  77084, 117152, 152337, 181701,\n",
       "       235496, 259455, 247241,  62478, 120708,  77999, 221087, 183004,\n",
       "       176790, 137632,  17781,  96745, 119822,  27904, 272762,  96196,\n",
       "       229580,  95366, 169234, 234962, 236644, 275885,  85040,  58612,\n",
       "       264187,  49047])"
      ]
     },
     "execution_count": 7,
     "metadata": {},
     "output_type": "execute_result"
    }
   ],
   "source": [
    "top=np.arange(x.shape[1])\n",
    "(top[np.argsort(-x)]+1).flatten()[:50]"
   ]
  },
  {
   "cell_type": "markdown",
   "metadata": {},
   "source": [
    "# Gauss Seidel"
   ]
  },
  {
   "cell_type": "code",
   "execution_count": 5,
   "metadata": {},
   "outputs": [],
   "source": [
    "a = 0.85"
   ]
  },
  {
   "cell_type": "code",
   "execution_count": 6,
   "metadata": {},
   "outputs": [],
   "source": [
    "P_dense=P.tocsc()[P.tocsc().getnnz(0)>0][:,P.getnnz(0)>0]"
   ]
  },
  {
   "cell_type": "code",
   "execution_count": 7,
   "metadata": {},
   "outputs": [],
   "source": [
    "dim=P_dense.shape[0]"
   ]
  },
  {
   "cell_type": "code",
   "execution_count": 8,
   "metadata": {},
   "outputs": [],
   "source": [
    "b=np.ones((dim,1))/dim\n",
    "y=(1-a)*np.ones((dim,1))/dim"
   ]
  },
  {
   "cell_type": "code",
   "execution_count": 9,
   "metadata": {},
   "outputs": [],
   "source": [
    "L=tril(P_dense,-1)+eye(dim)\n",
    "U=triu(P_dense).tocsr()\n",
    "D=diags(U.diagonal())"
   ]
  },
  {
   "cell_type": "code",
   "execution_count": 10,
   "metadata": {},
   "outputs": [],
   "source": [
    "x=spsolve_triangular(L,(-U@y+b))"
   ]
  },
  {
   "cell_type": "code",
   "execution_count": 11,
   "metadata": {},
   "outputs": [
    {
     "name": "stdout",
     "output_type": "stream",
     "text": [
      "Power method with a=0.85 took:  21.85254955291748 seconds to converge\n"
     ]
    }
   ],
   "source": [
    "stime=time.time()\n",
    "i=0\n",
    "while(np.linalg.norm(x-y)>10e-8 and i != 10):\n",
    "    y = x                            \n",
    "    x=spsolve_triangular(L,(-U@y+b))\n",
    "    i+=1\n",
    "print(\"Power method with a=0.85 took: \",time.time()-stime,\"seconds to converge\")"
   ]
  },
  {
   "cell_type": "code",
   "execution_count": 12,
   "metadata": {},
   "outputs": [
    {
     "data": {
      "text/plain": [
       "array([ 18398, 112399, 140596, 112473, 140544,  42787,  68900, 192517,\n",
       "       225228, 247005, 192861, 248431, 113220, 113277,    261, 113346,\n",
       "       166729, 168300, 175255,  23467,  58740, 247000, 113815, 112206,\n",
       "       163442,  95156, 252104, 174837, 252078, 159893, 141009, 110370,\n",
       "        11688,  23194,  93693,  15165, 203824, 111172,  94031, 224772,\n",
       "        59700, 111671,  42834, 193269, 111930, 111083, 191879, 113890,\n",
       "       218911, 116339])"
      ]
     },
     "execution_count": 12,
     "metadata": {},
     "output_type": "execute_result"
    }
   ],
   "source": [
    "x=x.T\n",
    "top=np.arange(x.shape[1])\n",
    "(top[np.argsort(-x)]+1).flatten()[:50]"
   ]
  },
  {
   "cell_type": "markdown",
   "metadata": {},
   "source": [
    "## Creating a new page X"
   ]
  },
  {
   "cell_type": "code",
   "execution_count": 5,
   "metadata": {},
   "outputs": [],
   "source": [
    "df=df.append(pd.DataFrame([[int(np.max(df)[0]+1),int(np.max(df)[0]+1),0]],index=[len(df)]))"
   ]
  },
  {
   "cell_type": "code",
   "execution_count": 6,
   "metadata": {},
   "outputs": [
    {
     "data": {
      "text/plain": [
       "(array([0], dtype=int64), array([281903], dtype=int64))"
      ]
     },
     "execution_count": 6,
     "metadata": {},
     "output_type": "execute_result"
    }
   ],
   "source": [
    "a=0.85\n",
    "dim=np.max(df[0])\n",
    "P=coo_matrix((df[2], (df[0]-1, df[1]-1)), shape=(dim, dim))\n",
    "b=np.ones((dim,1))/dim\n",
    "y=np.ones((dim,1))/dim\n",
    "filt=P.getnnz(1)>0\n",
    "tol = 10^-8;\n",
    "\n",
    "x = a*y.T*P + (a*y.T*filt+(1-a))*b.T\n",
    "while(np.linalg.norm(x-y.T)>10e-8):\n",
    "    y = x.T                             \n",
    "    x = a*y.T*P + (a*y.T*filt+(1-a))*b.T\n",
    "    \n",
    "top=np.arange(x.shape[1])\n",
    "np.where(top[np.argsort(-x)]+1==281904)\n",
    "# top[np.argsort(-x)]=top\n",
    "# np.where((top+1)==281904)"
   ]
  },
  {
   "cell_type": "markdown",
   "metadata": {},
   "source": [
    "## Creating page Y"
   ]
  },
  {
   "cell_type": "code",
   "execution_count": 7,
   "metadata": {},
   "outputs": [],
   "source": [
    "df=df.append(pd.DataFrame([[int(np.max(df)[0]+1),int(np.max(df)[0]),1]],index=[len(df)]))"
   ]
  },
  {
   "cell_type": "code",
   "execution_count": 8,
   "metadata": {},
   "outputs": [
    {
     "data": {
      "text/plain": [
       "(array([0], dtype=int64), array([149077], dtype=int64))"
      ]
     },
     "execution_count": 8,
     "metadata": {},
     "output_type": "execute_result"
    }
   ],
   "source": [
    "a=0.85\n",
    "dim=np.max(df[0])\n",
    "P=coo_matrix((df[2], (df[0]-1, df[1]-1)), shape=(dim, dim))\n",
    "b=np.ones((dim,1))/dim\n",
    "y=np.ones((dim,1))/dim\n",
    "filt=P.getnnz(1)>0\n",
    "tol = 10^-8;\n",
    "\n",
    "x = a*y.T*P + (a*y.T*filt+(1-a))*b.T\n",
    "while(np.linalg.norm(x-y.T)>10e-8):\n",
    "    y = x.T                             \n",
    "    x = a*y.T*P + (a*y.T*filt+(1-a))*b.T\n",
    "    \n",
    "top=np.arange(x.shape[1])\n",
    "np.where(top[np.argsort(-x)]+1==281904)\n",
    "# top[np.argsort(-x)]=top\n",
    "# np.where((top+1)==281904)"
   ]
  },
  {
   "cell_type": "markdown",
   "metadata": {},
   "source": [
    "## Creating page Z"
   ]
  },
  {
   "cell_type": "code",
   "execution_count": 9,
   "metadata": {},
   "outputs": [],
   "source": [
    "df=df.append(pd.DataFrame([[int(np.max(df)[0]+1),int(np.max(df)[0]-1),1]],index=[len(df)]))"
   ]
  },
  {
   "cell_type": "code",
   "execution_count": 10,
   "metadata": {},
   "outputs": [
    {
     "data": {
      "text/plain": [
       "(array([0], dtype=int64), array([109086], dtype=int64))"
      ]
     },
     "execution_count": 10,
     "metadata": {},
     "output_type": "execute_result"
    }
   ],
   "source": [
    "a=0.85\n",
    "dim=np.max(df[0])\n",
    "P=coo_matrix((df[2], (df[0]-1, df[1]-1)), shape=(dim, dim))\n",
    "b=np.ones((dim,1))/dim\n",
    "y=np.ones((dim,1))/dim\n",
    "filt=P.getnnz(1)>0\n",
    "tol = 10^-8;\n",
    "\n",
    "x = a*y.T*P + (a*y.T*filt+(1-a))*b.T\n",
    "while(np.linalg.norm(x-y.T)>10e-8):\n",
    "    y = x.T                             \n",
    "    x = a*y.T*P + (a*y.T*filt+(1-a))*b.T\n",
    "    \n",
    "top=np.arange(x.shape[1])\n",
    "np.where(top[np.argsort(-x)]+1==281904)\n",
    "# top[np.argsort(-x)]=top\n",
    "# np.where((top)==281904)"
   ]
  },
  {
   "cell_type": "markdown",
   "metadata": {},
   "source": [
    "## Create Links to popular pages"
   ]
  },
  {
   "cell_type": "code",
   "execution_count": 11,
   "metadata": {},
   "outputs": [],
   "source": [
    "popular= [106732,    707,  98460,  38495, 172045,  29717,  30694,  62248,\n",
    "        26196,   2749, 103169,  75873,  50827,  13493,  86973,  77721,\n",
    "       128811,  45237, 227753,  47047,   3959,  79632,   3137,  23829,\n",
    "        85494,  90808,  38392, 201481,  38611,  23437,  15019, 105729,\n",
    "        60750,  43030,  33014,  73472, 151232,  26432, 108737, 124378,\n",
    "        27341,  86210,   8080,  23115, 135364,  45181,   9062,  49391,\n",
    "        20217,  10691]"
   ]
  },
  {
   "cell_type": "markdown",
   "metadata": {},
   "source": [
    "## Make references to them from X"
   ]
  },
  {
   "cell_type": "code",
   "execution_count": 12,
   "metadata": {},
   "outputs": [],
   "source": [
    "for page in popular:\n",
    "    df=df.append(pd.DataFrame([[int(np.max(df)[0]-2),page,0.05]],index=[len(df)]))"
   ]
  },
  {
   "cell_type": "code",
   "execution_count": 13,
   "metadata": {},
   "outputs": [
    {
     "data": {
      "text/plain": [
       "(array([0], dtype=int64), array([109089], dtype=int64))"
      ]
     },
     "execution_count": 13,
     "metadata": {},
     "output_type": "execute_result"
    }
   ],
   "source": [
    "a=0.85\n",
    "dim=np.max(df[0])\n",
    "P=coo_matrix((df[2], (df[0]-1, df[1]-1)), shape=(dim, dim))\n",
    "b=np.ones((dim,1))/dim\n",
    "y=np.ones((dim,1))/dim\n",
    "filt=P.getnnz(1)>0\n",
    "tol = 10^-8;\n",
    "\n",
    "x = a*y.T*P + (a*y.T*filt+(1-a))*b.T\n",
    "while(np.linalg.norm(x-y.T)>10e-8):\n",
    "    y = x.T                             \n",
    "    x = a*y.T*P + (a*y.T*filt+(1-a))*b.T\n",
    "    \n",
    "top=np.arange(x.shape[1])\n",
    "np.where(top[np.argsort(-x)]+1==281904)\n",
    "# top[np.argsort(-x)]=top\n",
    "# np.where((top)==281904)"
   ]
  },
  {
   "cell_type": "markdown",
   "metadata": {},
   "source": [
    "## Make references to them from Z and Y"
   ]
  },
  {
   "cell_type": "code",
   "execution_count": 14,
   "metadata": {},
   "outputs": [],
   "source": [
    "for page in popular:\n",
    "    df=df.append(pd.DataFrame([[int(np.max(df)[0]-1),page,0.05]],index=[len(df)]))\n",
    "    df=df.append(pd.DataFrame([[int(np.max(df)[0]),page,0.05]],index=[len(df)]))"
   ]
  },
  {
   "cell_type": "code",
   "execution_count": 15,
   "metadata": {},
   "outputs": [
    {
     "data": {
      "text/plain": [
       "(array([0], dtype=int64), array([109091], dtype=int64))"
      ]
     },
     "execution_count": 15,
     "metadata": {},
     "output_type": "execute_result"
    }
   ],
   "source": [
    "a=0.85\n",
    "dim=np.max(df[0])\n",
    "P=coo_matrix((df[2], (df[0]-1, df[1]-1)), shape=(dim, dim))\n",
    "b=np.ones((dim,1))/dim\n",
    "y=np.ones((dim,1))/dim\n",
    "filt=P.getnnz(1)>0\n",
    "tol = 10^-8;\n",
    "\n",
    "x = a*y.T*P + (a*y.T*filt+(1-a))*b.T\n",
    "while(np.linalg.norm(x-y.T)>10e-8):\n",
    "    y = x.T                             \n",
    "    x = a*y.T*P + (a*y.T*filt+(1-a))*b.T\n",
    "    \n",
    "top=np.arange(x.shape[1])\n",
    "np.where(top[np.argsort(-x)]+1==281904)\n",
    "# top[np.argsort(-x)]=top\n",
    "# np.where((top)==281904)"
   ]
  },
  {
   "cell_type": "code",
   "execution_count": 34,
   "metadata": {},
   "outputs": [
    {
     "data": {
      "text/html": [
       "<div>\n",
       "<style scoped>\n",
       "    .dataframe tbody tr th:only-of-type {\n",
       "        vertical-align: middle;\n",
       "    }\n",
       "\n",
       "    .dataframe tbody tr th {\n",
       "        vertical-align: top;\n",
       "    }\n",
       "\n",
       "    .dataframe thead th {\n",
       "        text-align: right;\n",
       "    }\n",
       "</style>\n",
       "<table border=\"1\" class=\"dataframe\">\n",
       "  <thead>\n",
       "    <tr style=\"text-align: right;\">\n",
       "      <th></th>\n",
       "      <th>0</th>\n",
       "      <th>1</th>\n",
       "      <th>2</th>\n",
       "    </tr>\n",
       "  </thead>\n",
       "  <tbody>\n",
       "    <tr>\n",
       "      <th>0</th>\n",
       "      <td>1</td>\n",
       "      <td>6548</td>\n",
       "      <td>0.500000</td>\n",
       "    </tr>\n",
       "    <tr>\n",
       "      <th>1</th>\n",
       "      <td>1</td>\n",
       "      <td>15409</td>\n",
       "      <td>0.500000</td>\n",
       "    </tr>\n",
       "    <tr>\n",
       "      <th>2</th>\n",
       "      <td>2</td>\n",
       "      <td>252915</td>\n",
       "      <td>0.032258</td>\n",
       "    </tr>\n",
       "    <tr>\n",
       "      <th>3</th>\n",
       "      <td>2</td>\n",
       "      <td>246897</td>\n",
       "      <td>0.032258</td>\n",
       "    </tr>\n",
       "    <tr>\n",
       "      <th>4</th>\n",
       "      <td>2</td>\n",
       "      <td>251658</td>\n",
       "      <td>0.032258</td>\n",
       "    </tr>\n",
       "    <tr>\n",
       "      <th>5</th>\n",
       "      <td>2</td>\n",
       "      <td>280935</td>\n",
       "      <td>0.032258</td>\n",
       "    </tr>\n",
       "    <tr>\n",
       "      <th>6</th>\n",
       "      <td>2</td>\n",
       "      <td>213966</td>\n",
       "      <td>0.032258</td>\n",
       "    </tr>\n",
       "    <tr>\n",
       "      <th>7</th>\n",
       "      <td>2</td>\n",
       "      <td>243294</td>\n",
       "      <td>0.032258</td>\n",
       "    </tr>\n",
       "    <tr>\n",
       "      <th>8</th>\n",
       "      <td>2</td>\n",
       "      <td>225119</td>\n",
       "      <td>0.032258</td>\n",
       "    </tr>\n",
       "    <tr>\n",
       "      <th>9</th>\n",
       "      <td>2</td>\n",
       "      <td>241596</td>\n",
       "      <td>0.032258</td>\n",
       "    </tr>\n",
       "    <tr>\n",
       "      <th>10</th>\n",
       "      <td>2</td>\n",
       "      <td>178642</td>\n",
       "      <td>0.032258</td>\n",
       "    </tr>\n",
       "    <tr>\n",
       "      <th>11</th>\n",
       "      <td>2</td>\n",
       "      <td>210870</td>\n",
       "      <td>0.032258</td>\n",
       "    </tr>\n",
       "    <tr>\n",
       "      <th>12</th>\n",
       "      <td>2</td>\n",
       "      <td>204189</td>\n",
       "      <td>0.032258</td>\n",
       "    </tr>\n",
       "    <tr>\n",
       "      <th>13</th>\n",
       "      <td>2</td>\n",
       "      <td>190453</td>\n",
       "      <td>0.032258</td>\n",
       "    </tr>\n",
       "    <tr>\n",
       "      <th>14</th>\n",
       "      <td>2</td>\n",
       "      <td>204604</td>\n",
       "      <td>0.032258</td>\n",
       "    </tr>\n",
       "    <tr>\n",
       "      <th>15</th>\n",
       "      <td>2</td>\n",
       "      <td>181714</td>\n",
       "      <td>0.032258</td>\n",
       "    </tr>\n",
       "    <tr>\n",
       "      <th>16</th>\n",
       "      <td>2</td>\n",
       "      <td>164599</td>\n",
       "      <td>0.032258</td>\n",
       "    </tr>\n",
       "    <tr>\n",
       "      <th>17</th>\n",
       "      <td>2</td>\n",
       "      <td>175799</td>\n",
       "      <td>0.032258</td>\n",
       "    </tr>\n",
       "    <tr>\n",
       "      <th>18</th>\n",
       "      <td>2</td>\n",
       "      <td>163550</td>\n",
       "      <td>0.032258</td>\n",
       "    </tr>\n",
       "    <tr>\n",
       "      <th>19</th>\n",
       "      <td>2</td>\n",
       "      <td>140864</td>\n",
       "      <td>0.032258</td>\n",
       "    </tr>\n",
       "    <tr>\n",
       "      <th>20</th>\n",
       "      <td>2</td>\n",
       "      <td>115926</td>\n",
       "      <td>0.032258</td>\n",
       "    </tr>\n",
       "    <tr>\n",
       "      <th>21</th>\n",
       "      <td>2</td>\n",
       "      <td>73764</td>\n",
       "      <td>0.032258</td>\n",
       "    </tr>\n",
       "    <tr>\n",
       "      <th>22</th>\n",
       "      <td>2</td>\n",
       "      <td>105730</td>\n",
       "      <td>0.032258</td>\n",
       "    </tr>\n",
       "    <tr>\n",
       "      <th>23</th>\n",
       "      <td>2</td>\n",
       "      <td>98628</td>\n",
       "      <td>0.032258</td>\n",
       "    </tr>\n",
       "    <tr>\n",
       "      <th>24</th>\n",
       "      <td>2</td>\n",
       "      <td>84477</td>\n",
       "      <td>0.032258</td>\n",
       "    </tr>\n",
       "    <tr>\n",
       "      <th>25</th>\n",
       "      <td>2</td>\n",
       "      <td>105318</td>\n",
       "      <td>0.032258</td>\n",
       "    </tr>\n",
       "    <tr>\n",
       "      <th>26</th>\n",
       "      <td>2</td>\n",
       "      <td>100193</td>\n",
       "      <td>0.032258</td>\n",
       "    </tr>\n",
       "    <tr>\n",
       "      <th>27</th>\n",
       "      <td>2</td>\n",
       "      <td>102355</td>\n",
       "      <td>0.032258</td>\n",
       "    </tr>\n",
       "    <tr>\n",
       "      <th>28</th>\n",
       "      <td>2</td>\n",
       "      <td>64930</td>\n",
       "      <td>0.032258</td>\n",
       "    </tr>\n",
       "    <tr>\n",
       "      <th>29</th>\n",
       "      <td>2</td>\n",
       "      <td>54582</td>\n",
       "      <td>0.032258</td>\n",
       "    </tr>\n",
       "    <tr>\n",
       "      <th>...</th>\n",
       "      <td>...</td>\n",
       "      <td>...</td>\n",
       "      <td>...</td>\n",
       "    </tr>\n",
       "    <tr>\n",
       "      <th>2383034</th>\n",
       "      <td>281904</td>\n",
       "      <td>73472</td>\n",
       "      <td>0.050000</td>\n",
       "    </tr>\n",
       "    <tr>\n",
       "      <th>2383035</th>\n",
       "      <td>281905</td>\n",
       "      <td>73472</td>\n",
       "      <td>0.050000</td>\n",
       "    </tr>\n",
       "    <tr>\n",
       "      <th>2383036</th>\n",
       "      <td>281904</td>\n",
       "      <td>151232</td>\n",
       "      <td>0.050000</td>\n",
       "    </tr>\n",
       "    <tr>\n",
       "      <th>2383037</th>\n",
       "      <td>281905</td>\n",
       "      <td>151232</td>\n",
       "      <td>0.050000</td>\n",
       "    </tr>\n",
       "    <tr>\n",
       "      <th>2383038</th>\n",
       "      <td>281904</td>\n",
       "      <td>26432</td>\n",
       "      <td>0.050000</td>\n",
       "    </tr>\n",
       "    <tr>\n",
       "      <th>2383039</th>\n",
       "      <td>281905</td>\n",
       "      <td>26432</td>\n",
       "      <td>0.050000</td>\n",
       "    </tr>\n",
       "    <tr>\n",
       "      <th>2383040</th>\n",
       "      <td>281904</td>\n",
       "      <td>108737</td>\n",
       "      <td>0.050000</td>\n",
       "    </tr>\n",
       "    <tr>\n",
       "      <th>2383041</th>\n",
       "      <td>281905</td>\n",
       "      <td>108737</td>\n",
       "      <td>0.050000</td>\n",
       "    </tr>\n",
       "    <tr>\n",
       "      <th>2383042</th>\n",
       "      <td>281904</td>\n",
       "      <td>124378</td>\n",
       "      <td>0.050000</td>\n",
       "    </tr>\n",
       "    <tr>\n",
       "      <th>2383043</th>\n",
       "      <td>281905</td>\n",
       "      <td>124378</td>\n",
       "      <td>0.050000</td>\n",
       "    </tr>\n",
       "    <tr>\n",
       "      <th>2383044</th>\n",
       "      <td>281904</td>\n",
       "      <td>27341</td>\n",
       "      <td>0.050000</td>\n",
       "    </tr>\n",
       "    <tr>\n",
       "      <th>2383045</th>\n",
       "      <td>281905</td>\n",
       "      <td>27341</td>\n",
       "      <td>0.050000</td>\n",
       "    </tr>\n",
       "    <tr>\n",
       "      <th>2383046</th>\n",
       "      <td>281904</td>\n",
       "      <td>86210</td>\n",
       "      <td>0.050000</td>\n",
       "    </tr>\n",
       "    <tr>\n",
       "      <th>2383047</th>\n",
       "      <td>281905</td>\n",
       "      <td>86210</td>\n",
       "      <td>0.050000</td>\n",
       "    </tr>\n",
       "    <tr>\n",
       "      <th>2383048</th>\n",
       "      <td>281904</td>\n",
       "      <td>8080</td>\n",
       "      <td>0.050000</td>\n",
       "    </tr>\n",
       "    <tr>\n",
       "      <th>2383049</th>\n",
       "      <td>281905</td>\n",
       "      <td>8080</td>\n",
       "      <td>0.050000</td>\n",
       "    </tr>\n",
       "    <tr>\n",
       "      <th>2383050</th>\n",
       "      <td>281904</td>\n",
       "      <td>23115</td>\n",
       "      <td>0.050000</td>\n",
       "    </tr>\n",
       "    <tr>\n",
       "      <th>2383051</th>\n",
       "      <td>281905</td>\n",
       "      <td>23115</td>\n",
       "      <td>0.050000</td>\n",
       "    </tr>\n",
       "    <tr>\n",
       "      <th>2383052</th>\n",
       "      <td>281904</td>\n",
       "      <td>135364</td>\n",
       "      <td>0.050000</td>\n",
       "    </tr>\n",
       "    <tr>\n",
       "      <th>2383053</th>\n",
       "      <td>281905</td>\n",
       "      <td>135364</td>\n",
       "      <td>0.050000</td>\n",
       "    </tr>\n",
       "    <tr>\n",
       "      <th>2383054</th>\n",
       "      <td>281904</td>\n",
       "      <td>45181</td>\n",
       "      <td>0.050000</td>\n",
       "    </tr>\n",
       "    <tr>\n",
       "      <th>2383055</th>\n",
       "      <td>281905</td>\n",
       "      <td>45181</td>\n",
       "      <td>0.050000</td>\n",
       "    </tr>\n",
       "    <tr>\n",
       "      <th>2383056</th>\n",
       "      <td>281904</td>\n",
       "      <td>9062</td>\n",
       "      <td>0.050000</td>\n",
       "    </tr>\n",
       "    <tr>\n",
       "      <th>2383057</th>\n",
       "      <td>281905</td>\n",
       "      <td>9062</td>\n",
       "      <td>0.050000</td>\n",
       "    </tr>\n",
       "    <tr>\n",
       "      <th>2383058</th>\n",
       "      <td>281904</td>\n",
       "      <td>49391</td>\n",
       "      <td>0.050000</td>\n",
       "    </tr>\n",
       "    <tr>\n",
       "      <th>2383059</th>\n",
       "      <td>281905</td>\n",
       "      <td>49391</td>\n",
       "      <td>0.050000</td>\n",
       "    </tr>\n",
       "    <tr>\n",
       "      <th>2383060</th>\n",
       "      <td>281904</td>\n",
       "      <td>20217</td>\n",
       "      <td>0.050000</td>\n",
       "    </tr>\n",
       "    <tr>\n",
       "      <th>2383061</th>\n",
       "      <td>281905</td>\n",
       "      <td>20217</td>\n",
       "      <td>0.050000</td>\n",
       "    </tr>\n",
       "    <tr>\n",
       "      <th>2383062</th>\n",
       "      <td>281904</td>\n",
       "      <td>10691</td>\n",
       "      <td>0.050000</td>\n",
       "    </tr>\n",
       "    <tr>\n",
       "      <th>2383063</th>\n",
       "      <td>281905</td>\n",
       "      <td>10691</td>\n",
       "      <td>0.050000</td>\n",
       "    </tr>\n",
       "  </tbody>\n",
       "</table>\n",
       "<p>2383064 rows × 3 columns</p>\n",
       "</div>"
      ],
      "text/plain": [
       "              0       1         2\n",
       "0             1    6548  0.500000\n",
       "1             1   15409  0.500000\n",
       "2             2  252915  0.032258\n",
       "3             2  246897  0.032258\n",
       "4             2  251658  0.032258\n",
       "5             2  280935  0.032258\n",
       "6             2  213966  0.032258\n",
       "7             2  243294  0.032258\n",
       "8             2  225119  0.032258\n",
       "9             2  241596  0.032258\n",
       "10            2  178642  0.032258\n",
       "11            2  210870  0.032258\n",
       "12            2  204189  0.032258\n",
       "13            2  190453  0.032258\n",
       "14            2  204604  0.032258\n",
       "15            2  181714  0.032258\n",
       "16            2  164599  0.032258\n",
       "17            2  175799  0.032258\n",
       "18            2  163550  0.032258\n",
       "19            2  140864  0.032258\n",
       "20            2  115926  0.032258\n",
       "21            2   73764  0.032258\n",
       "22            2  105730  0.032258\n",
       "23            2   98628  0.032258\n",
       "24            2   84477  0.032258\n",
       "25            2  105318  0.032258\n",
       "26            2  100193  0.032258\n",
       "27            2  102355  0.032258\n",
       "28            2   64930  0.032258\n",
       "29            2   54582  0.032258\n",
       "...         ...     ...       ...\n",
       "2383034  281904   73472  0.050000\n",
       "2383035  281905   73472  0.050000\n",
       "2383036  281904  151232  0.050000\n",
       "2383037  281905  151232  0.050000\n",
       "2383038  281904   26432  0.050000\n",
       "2383039  281905   26432  0.050000\n",
       "2383040  281904  108737  0.050000\n",
       "2383041  281905  108737  0.050000\n",
       "2383042  281904  124378  0.050000\n",
       "2383043  281905  124378  0.050000\n",
       "2383044  281904   27341  0.050000\n",
       "2383045  281905   27341  0.050000\n",
       "2383046  281904   86210  0.050000\n",
       "2383047  281905   86210  0.050000\n",
       "2383048  281904    8080  0.050000\n",
       "2383049  281905    8080  0.050000\n",
       "2383050  281904   23115  0.050000\n",
       "2383051  281905   23115  0.050000\n",
       "2383052  281904  135364  0.050000\n",
       "2383053  281905  135364  0.050000\n",
       "2383054  281904   45181  0.050000\n",
       "2383055  281905   45181  0.050000\n",
       "2383056  281904    9062  0.050000\n",
       "2383057  281905    9062  0.050000\n",
       "2383058  281904   49391  0.050000\n",
       "2383059  281905   49391  0.050000\n",
       "2383060  281904   20217  0.050000\n",
       "2383061  281905   20217  0.050000\n",
       "2383062  281904   10691  0.050000\n",
       "2383063  281905   10691  0.050000\n",
       "\n",
       "[2383064 rows x 3 columns]"
      ]
     },
     "execution_count": 34,
     "metadata": {},
     "output_type": "execute_result"
    }
   ],
   "source": [
    "df"
   ]
  },
  {
   "cell_type": "code",
   "execution_count": null,
   "metadata": {},
   "outputs": [],
   "source": []
  }
 ],
 "metadata": {
  "kernelspec": {
   "display_name": "Python 3",
   "language": "python",
   "name": "python3"
  },
  "language_info": {
   "codemirror_mode": {
    "name": "ipython",
    "version": 3
   },
   "file_extension": ".py",
   "mimetype": "text/x-python",
   "name": "python",
   "nbconvert_exporter": "python",
   "pygments_lexer": "ipython3",
   "version": "3.6.5"
  }
 },
 "nbformat": 4,
 "nbformat_minor": 2
}
